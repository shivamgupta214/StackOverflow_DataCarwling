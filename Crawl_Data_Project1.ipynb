{
 "cells": [
  {
   "cell_type": "code",
   "execution_count": 23,
   "id": "c64bd157",
   "metadata": {},
   "outputs": [],
   "source": [
    "import requests\n",
    "import json\n",
    "import pandas as pd\n",
    "from pandas import json_normalize\n",
    "\n",
    "data=[]\n",
    "apiKey = \"&key=yourkey\"\n",
    "api = \"https://api.stackexchange.com/2.3/questions?page=100&pagesize=100&fromdate=1669852800&todate=1676246400&order=desc&sort=activity&site=stackoverflow\"\n",
    "for i in range(20):\n",
    "    response = requests.get(api+apiKey)\n",
    "    jData=json.loads(response.text)\n",
    "    for item in jData['items']:\n",
    "        data.append(item)\n",
    "df = json_normalize(data)\n",
    "df.to_csv('UserQuestionsDataFor_AllQuestions.csv')"
   ]
  },
  {
   "cell_type": "code",
   "execution_count": null,
   "id": "943bac75",
   "metadata": {},
   "outputs": [],
   "source": []
  }
 ],
 "metadata": {
  "kernelspec": {
   "display_name": "Python 3 (ipykernel)",
   "language": "python",
   "name": "python3"
  },
  "language_info": {
   "codemirror_mode": {
    "name": "ipython",
    "version": 3
   },
   "file_extension": ".py",
   "mimetype": "text/x-python",
   "name": "python",
   "nbconvert_exporter": "python",
   "pygments_lexer": "ipython3",
   "version": "3.9.13"
  }
 },
 "nbformat": 4,
 "nbformat_minor": 5
}
